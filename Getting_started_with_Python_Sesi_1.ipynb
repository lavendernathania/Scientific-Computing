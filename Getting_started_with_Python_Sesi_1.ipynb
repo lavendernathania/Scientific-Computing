{
  "cells": [
    {
      "cell_type": "markdown",
      "metadata": {
        "id": "view-in-github",
        "colab_type": "text"
      },
      "source": [
        "<a href=\"https://colab.research.google.com/github/lavendernathania/Scientific-Computing/blob/main/Getting_started_with_Python_Sesi_1.ipynb\" target=\"_parent\"><img src=\"https://colab.research.google.com/assets/colab-badge.svg\" alt=\"Open In Colab\"/></a>"
      ]
    },
    {
      "cell_type": "code",
      "source": [
        "import time\n",
        "print(time.ctime())"
      ],
      "metadata": {
        "id": "m6q9xs4FOScO",
        "outputId": "2602988b-35ac-42fe-82fa-8d4580f57518",
        "colab": {
          "base_uri": "https://localhost:8080/"
        }
      },
      "execution_count": null,
      "outputs": [
        {
          "output_type": "stream",
          "name": "stdout",
          "text": [
            "Wed Feb 15 08:41:08 2023\n"
          ]
        }
      ]
    },
    {
      "cell_type": "code",
      "source": [
        "x = 1\n",
        "y = x + 1\n",
        "x = 2\n",
        "y\n"
      ],
      "metadata": {
        "colab": {
          "base_uri": "https://localhost:8080/"
        },
        "id": "H-vx1ikoQcNV",
        "outputId": "fe70332c-e51f-4ba0-9287-70fd15506d17"
      },
      "execution_count": null,
      "outputs": [
        {
          "output_type": "execute_result",
          "data": {
            "text/plain": [
              "2"
            ]
          },
          "metadata": {},
          "execution_count": 2
        }
      ]
    },
    {
      "cell_type": "code",
      "source": [
        "import numpy as np\n",
        "x = np.array([1, 4, 3])\n",
        "x"
      ],
      "metadata": {
        "colab": {
          "base_uri": "https://localhost:8080/"
        },
        "id": "b5Q6OiVUSbjH",
        "outputId": "aaf5a225-1d04-41ad-ac0e-7f3a9ecf3834"
      },
      "execution_count": null,
      "outputs": [
        {
          "output_type": "execute_result",
          "data": {
            "text/plain": [
              "array([1, 4, 3])"
            ]
          },
          "metadata": {},
          "execution_count": 6
        }
      ]
    },
    {
      "cell_type": "code",
      "source": [
        "import numpy as np\n",
        "y = np.array([[1, 4, 3], [9, 2, 7]])\n",
        "y"
      ],
      "metadata": {
        "colab": {
          "base_uri": "https://localhost:8080/"
        },
        "id": "uAFPuJ6eTFot",
        "outputId": "437af634-ba95-4914-d64c-c6478c67ab02"
      },
      "execution_count": null,
      "outputs": [
        {
          "output_type": "execute_result",
          "data": {
            "text/plain": [
              "array([[1, 4, 3],\n",
              "       [9, 2, 7]])"
            ]
          },
          "metadata": {},
          "execution_count": 7
        }
      ]
    },
    {
      "cell_type": "code",
      "source": [
        "import numpy as np\n",
        "def my_adder(a, b, c):\n",
        "    \"\"\"\n",
        "    function to sum the 3 numbers\n",
        "    Input: 3 numbers a, b, c\n",
        "    Output: the sum of a, b, and c\n",
        "    author:\n",
        "    date:\n",
        "    \"\"\"\n",
        "    #this is the sumation\n",
        "    out = a + b + c\n",
        "\n",
        "    return out"
      ],
      "metadata": {
        "id": "KwBEhpI3UAD-"
      },
      "execution_count": null,
      "outputs": []
    },
    {
      "cell_type": "code",
      "source": [
        "my_adder(1, 2, 3)"
      ],
      "metadata": {
        "colab": {
          "base_uri": "https://localhost:8080/"
        },
        "id": "EkkkjtNdWR1_",
        "outputId": "c739e540-a59f-4f9c-d305-015dd96e67d5"
      },
      "execution_count": null,
      "outputs": [
        {
          "output_type": "execute_result",
          "data": {
            "text/plain": [
              "6"
            ]
          },
          "metadata": {},
          "execution_count": 12
        }
      ]
    },
    {
      "cell_type": "code",
      "source": [
        "help(my_adder)"
      ],
      "metadata": {
        "colab": {
          "base_uri": "https://localhost:8080/"
        },
        "id": "ysfjwdDGW-Gm",
        "outputId": "13aeed93-7d3f-4e8a-af2a-6ddbcab19f8c"
      },
      "execution_count": null,
      "outputs": [
        {
          "output_type": "stream",
          "name": "stdout",
          "text": [
            "Help on function my_adder in module __main__:\n",
            "\n",
            "my_adder(a, b, c)\n",
            "    function to sum the 3 numbers\n",
            "    Input: 3 numbers a, b, c\n",
            "    Output: the sum of a, b, and c\n",
            "    author:\n",
            "    date:\n",
            "\n"
          ]
        }
      ]
    },
    {
      "cell_type": "code",
      "source": [
        "def my_thermo_stat(temp, desired_temp):\n",
        "    if temp < desired_temp - 5:\n",
        "        status = 'Heat'\n",
        "    elif temp > desired_temp + 5:\n",
        "        status = 'AC'\n",
        "    else:\n",
        "        status = 'off'\n",
        "    return status"
      ],
      "metadata": {
        "id": "WyujuakYYLee"
      },
      "execution_count": null,
      "outputs": []
    },
    {
      "cell_type": "code",
      "source": [
        "status = my_thermo_stat(65,75)\n",
        "print(status)"
      ],
      "metadata": {
        "colab": {
          "base_uri": "https://localhost:8080/"
        },
        "id": "SYj4F5JkY2H2",
        "outputId": "db4d56c0-3d9e-4124-db32-5b7face0b21f"
      },
      "execution_count": null,
      "outputs": [
        {
          "output_type": "stream",
          "name": "stdout",
          "text": [
            "Heat\n"
          ]
        }
      ]
    },
    {
      "cell_type": "code",
      "source": [
        "status = my_thermo_stat(75, 65)\n",
        "print(status)"
      ],
      "metadata": {
        "colab": {
          "base_uri": "https://localhost:8080/"
        },
        "id": "swXb-GMFY9v5",
        "outputId": "3130c55b-52ef-4b71-9602-cba0008dc27e"
      },
      "execution_count": null,
      "outputs": [
        {
          "output_type": "stream",
          "name": "stdout",
          "text": [
            "AC\n"
          ]
        }
      ]
    },
    {
      "cell_type": "code",
      "source": [
        "status = my_thermo_stat(65, 63)\n",
        "print(status)"
      ],
      "metadata": {
        "colab": {
          "base_uri": "https://localhost:8080/"
        },
        "id": "pWH90982ZIPy",
        "outputId": "9a5d88ca-ab7e-4862-fe10-452abf4c7718"
      },
      "execution_count": null,
      "outputs": [
        {
          "output_type": "stream",
          "name": "stdout",
          "text": [
            "off\n"
          ]
        }
      ]
    },
    {
      "cell_type": "code",
      "source": [
        "x = 3\n",
        "if x > 1 and x < 2:\n",
        "  y = 2\n",
        "elif x > 2 and x < 4:\n",
        "  y = 4\n",
        "else:\n",
        "  y = 0\n",
        "print(y)"
      ],
      "metadata": {
        "colab": {
          "base_uri": "https://localhost:8080/"
        },
        "id": "VGfFERq5aUxK",
        "outputId": "35131840-e5b2-44df-af90-9c15c991a89c"
      },
      "execution_count": null,
      "outputs": [
        {
          "output_type": "stream",
          "name": "stdout",
          "text": [
            "4\n"
          ]
        }
      ]
    },
    {
      "cell_type": "code",
      "source": [
        "x = 3\n",
        "if 1 < x < 2:\n",
        "  y = 2\n",
        "elif 2 < x < 4:\n",
        "  y = 4\n",
        "else:\n",
        "  y = 0\n",
        "print(y)"
      ],
      "metadata": {
        "colab": {
          "base_uri": "https://localhost:8080/"
        },
        "id": "GaY7eg4qapA4",
        "outputId": "024d3350-18d1-4ac0-9660-c647eb1992b0"
      },
      "execution_count": null,
      "outputs": [
        {
          "output_type": "stream",
          "name": "stdout",
          "text": [
            "4\n"
          ]
        }
      ]
    }
  ],
  "metadata": {
    "colab": {
      "provenance": [],
      "include_colab_link": true
    },
    "kernelspec": {
      "display_name": "Python 3",
      "name": "python3"
    }
  },
  "nbformat": 4,
  "nbformat_minor": 0
}